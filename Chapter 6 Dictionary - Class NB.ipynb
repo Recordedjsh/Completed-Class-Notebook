{
 "cells": [
  {
   "cell_type": "markdown",
   "id": "8a248839",
   "metadata": {},
   "source": [
    "# 6. Working with Dictionaries\n",
    "* A dictionary in Python is a collection of key-value pairs. \n",
    "* Each key is connected to a value, and you can use a key to access the value associated with that key.\n",
    "* A key’s value can be a number, a string, a list, or even another dictionary.\n",
    "\n",
    "* `Key` is the unique identifier to find data and the `value` is the data\n",
    "\n",
    "* A dictionary is a collection which is ordered*, changeable and does not allow duplicates.\n",
    "\n",
    "* Unlike strings, lists, and tuples, **dictionaries are not sequences** - the data are not stored in order. \n",
    "* List can be represented by [ ], Tuple can be represented by ( ), Dictionary  can be represented by { }"
   ]
  },
  {
   "cell_type": "code",
   "execution_count": 22,
   "id": "05999d3a",
   "metadata": {},
   "outputs": [
    {
     "data": {
      "text/plain": [
       "dict"
      ]
     },
     "execution_count": 22,
     "metadata": {},
     "output_type": "execute_result"
    }
   ],
   "source": [
    "Dict={}\n",
    "type(Dict)"
   ]
  },
  {
   "cell_type": "code",
   "execution_count": 23,
   "id": "88e3e9ba",
   "metadata": {},
   "outputs": [
    {
     "data": {
      "text/plain": [
       "dict"
      ]
     },
     "execution_count": 23,
     "metadata": {},
     "output_type": "execute_result"
    }
   ],
   "source": [
    "Dict1=dict()\n",
    "type(Dict1)"
   ]
  },
  {
   "cell_type": "code",
   "execution_count": 24,
   "id": "5d25b2cb",
   "metadata": {},
   "outputs": [],
   "source": [
    "data={'Alabama':'Montgomery',\n",
    "     'Arizona':'Pheonix',\n",
    "     'Georgia':'Atlanta',\n",
    "     'Kentucky':'Frankfort',\n",
    "     'Ohio':'Columbus'}"
   ]
  },
  {
   "cell_type": "markdown",
   "id": "4be8c616",
   "metadata": {},
   "source": [
    "### Access `values` from a dictionary using key\n",
    "* Key and values can be any data types\n",
    "* Accessing key value not present in dictionary generated KeyError"
   ]
  },
  {
   "cell_type": "code",
   "execution_count": 4,
   "id": "aab3f949",
   "metadata": {},
   "outputs": [
    {
     "data": {
      "text/plain": [
       "'Columbus'"
      ]
     },
     "execution_count": 4,
     "metadata": {},
     "output_type": "execute_result"
    }
   ],
   "source": [
    "data['Ohio']"
   ]
  },
  {
   "cell_type": "code",
   "execution_count": 5,
   "id": "fe9e3886",
   "metadata": {},
   "outputs": [
    {
     "data": {
      "text/plain": [
       "'Atlanta'"
      ]
     },
     "execution_count": 5,
     "metadata": {},
     "output_type": "execute_result"
    }
   ],
   "source": [
    "data['Georgia']"
   ]
  },
  {
   "cell_type": "code",
   "execution_count": 6,
   "id": "e4eb565d",
   "metadata": {},
   "outputs": [],
   "source": [
    "# generate a key error if the key is not present in the dictionary\n",
    "# data['New York']"
   ]
  },
  {
   "cell_type": "code",
   "execution_count": 7,
   "id": "c7dae653",
   "metadata": {},
   "outputs": [],
   "source": [
    "day={1: 'Monday',\n",
    "    2: 'Tuesday',\n",
    "    4: ('Thursday', 'Friday'),\n",
    "    5: ['Saturday','Sunday']}"
   ]
  },
  {
   "cell_type": "markdown",
   "id": "bc6af6fc",
   "metadata": {},
   "source": [
    "### Update elements of a dictionary and add new elements"
   ]
  },
  {
   "cell_type": "code",
   "execution_count": 8,
   "id": "f62f227f",
   "metadata": {},
   "outputs": [
    {
     "data": {
      "text/plain": [
       "'Thursday'"
      ]
     },
     "execution_count": 8,
     "metadata": {},
     "output_type": "execute_result"
    }
   ],
   "source": [
    "# Thursday\n",
    "day[4][0]  #day[key][index]"
   ]
  },
  {
   "cell_type": "code",
   "execution_count": 9,
   "id": "560dd19f",
   "metadata": {},
   "outputs": [
    {
     "data": {
      "text/plain": [
       "'Sunday'"
      ]
     },
     "execution_count": 9,
     "metadata": {},
     "output_type": "execute_result"
    }
   ],
   "source": [
    "# Sunday\n",
    "day[5][1]"
   ]
  },
  {
   "cell_type": "code",
   "execution_count": 10,
   "id": "7f07b100",
   "metadata": {},
   "outputs": [],
   "source": [
    "day[3]='wednesday'"
   ]
  },
  {
   "cell_type": "code",
   "execution_count": 11,
   "id": "e30ad316",
   "metadata": {},
   "outputs": [
    {
     "data": {
      "text/plain": [
       "{1: 'Monday',\n",
       " 2: 'Tuesday',\n",
       " 4: ('Thursday', 'Friday'),\n",
       " 5: ['Saturday', 'Sunday'],\n",
       " 3: 'wednesday'}"
      ]
     },
     "execution_count": 11,
     "metadata": {},
     "output_type": "execute_result"
    }
   ],
   "source": [
    "day"
   ]
  },
  {
   "cell_type": "code",
   "execution_count": 12,
   "id": "071c6f12",
   "metadata": {},
   "outputs": [
    {
     "data": {
      "text/plain": [
       "{1: 'Monday',\n",
       " 2: 'Tuesday',\n",
       " 4: ('Thursday', 'Friday'),\n",
       " 5: ['Holiday', 'Sunday'],\n",
       " 3: 'wednesday'}"
      ]
     },
     "execution_count": 12,
     "metadata": {},
     "output_type": "execute_result"
    }
   ],
   "source": [
    "# Update saturday to holiday\n",
    "day[5][0]='Holiday' # access then assign\n",
    "day"
   ]
  },
  {
   "cell_type": "code",
   "execution_count": 13,
   "id": "10cd3add",
   "metadata": {},
   "outputs": [
    {
     "data": {
      "text/plain": [
       "{1: 'Monday',\n",
       " 2: 'Tuesday',\n",
       " 4: ('Thursday', 'Friday'),\n",
       " 5: ['Holiday', 'holiday'],\n",
       " 3: 'wednesday'}"
      ]
     },
     "execution_count": 13,
     "metadata": {},
     "output_type": "execute_result"
    }
   ],
   "source": [
    "# update sunday to holiday\n",
    "day[5][1]='holiday'\n",
    "day"
   ]
  },
  {
   "cell_type": "code",
   "execution_count": 14,
   "id": "afdf81cb",
   "metadata": {},
   "outputs": [],
   "source": [
    "# update thursday to holiday\n",
    "#day[4][0]='holiday' # can not update a tuple"
   ]
  },
  {
   "cell_type": "markdown",
   "id": "f7bb990f",
   "metadata": {},
   "source": [
    "### `get` and `update` methods\n",
    "- get use to access a value from dictionary\n",
    "- update the dictionary with a new value also update the old value"
   ]
  },
  {
   "cell_type": "code",
   "execution_count": 15,
   "id": "c99acf1a",
   "metadata": {},
   "outputs": [
    {
     "data": {
      "text/plain": [
       "'wednesday'"
      ]
     },
     "execution_count": 15,
     "metadata": {},
     "output_type": "execute_result"
    }
   ],
   "source": [
    "# return wednesday\n",
    "day.get(3)"
   ]
  },
  {
   "cell_type": "code",
   "execution_count": 16,
   "id": "07adb580",
   "metadata": {},
   "outputs": [
    {
     "data": {
      "text/plain": [
       "'Monday'"
      ]
     },
     "execution_count": 16,
     "metadata": {},
     "output_type": "execute_result"
    }
   ],
   "source": [
    "# monday\n",
    "day.get(1)"
   ]
  },
  {
   "cell_type": "code",
   "execution_count": 17,
   "id": "b0a3d920",
   "metadata": {},
   "outputs": [],
   "source": [
    "day.get(6) # not generating an error if the key is not present in the dictionary"
   ]
  },
  {
   "cell_type": "code",
   "execution_count": 18,
   "id": "fc69e2de",
   "metadata": {},
   "outputs": [],
   "source": [
    "#day[6] # generating an error"
   ]
  },
  {
   "cell_type": "code",
   "execution_count": 19,
   "id": "392d3129",
   "metadata": {},
   "outputs": [
    {
     "data": {
      "text/plain": [
       "{1: 'Monday',\n",
       " 2: 'Tuesday',\n",
       " 4: ('Thursday', 'Friday'),\n",
       " 5: ['Holiday', 'holiday'],\n",
       " 3: 'wednesday'}"
      ]
     },
     "execution_count": 19,
     "metadata": {},
     "output_type": "execute_result"
    }
   ],
   "source": [
    "day"
   ]
  },
  {
   "cell_type": "code",
   "execution_count": 21,
   "id": "226a5fa9",
   "metadata": {},
   "outputs": [],
   "source": [
    "data={'Alabama':'Montgomery',\n",
    "     'Arizona':'Pheonix',\n",
    "     'Georgia':'Atlanta',\n",
    "     'Kentucky':'Frankfort',\n",
    "     'Ohio':'Columbus'}"
   ]
  },
  {
   "cell_type": "code",
   "execution_count": null,
   "id": "6c73bfc5",
   "metadata": {},
   "outputs": [],
   "source": [
    "# update an old entry\n",
    "data.update({'Kentucky':'Louisville'})\n",
    "data"
   ]
  },
  {
   "cell_type": "code",
   "execution_count": null,
   "id": "ce199e95",
   "metadata": {},
   "outputs": [],
   "source": [
    "# new entry\n",
    "data.update({'Louisiana':'Baton Rouge'})\n",
    "data"
   ]
  },
  {
   "cell_type": "code",
   "execution_count": null,
   "id": "bb2bede8",
   "metadata": {},
   "outputs": [],
   "source": [
    "data.update({'Missouri':'Jefferson City',\n",
    "             'Kentucky':'Frankfurt'})\n",
    "data"
   ]
  },
  {
   "cell_type": "markdown",
   "id": "18536626",
   "metadata": {},
   "source": [
    "### Delete dictionary items using `del` and `pop`"
   ]
  },
  {
   "cell_type": "code",
   "execution_count": null,
   "id": "ebc3b904",
   "metadata": {},
   "outputs": [],
   "source": [
    "# delete Alabama using del method\n",
    "del data['Alabama']\n",
    "data"
   ]
  },
  {
   "cell_type": "code",
   "execution_count": null,
   "id": "fc64b2ed",
   "metadata": {},
   "outputs": [],
   "source": [
    "#delete Ohio using pop\n",
    "data.pop('Ohio')"
   ]
  },
  {
   "cell_type": "code",
   "execution_count": null,
   "id": "e3993e4c",
   "metadata": {},
   "outputs": [],
   "source": [
    "data"
   ]
  },
  {
   "cell_type": "code",
   "execution_count": null,
   "id": "f4fef28c",
   "metadata": {},
   "outputs": [],
   "source": [
    "# delete the dictionary\n",
    "del data"
   ]
  },
  {
   "cell_type": "code",
   "execution_count": null,
   "id": "8caef143",
   "metadata": {},
   "outputs": [],
   "source": [
    "# name error as the dictionary not present any more\n",
    "#data"
   ]
  },
  {
   "cell_type": "markdown",
   "id": "610aae76",
   "metadata": {},
   "source": [
    "### Number of elements in the dictionary and extracting `keys()`, `values()`, `items()`"
   ]
  },
  {
   "cell_type": "code",
   "execution_count": null,
   "id": "f13bd3ba",
   "metadata": {},
   "outputs": [],
   "source": [
    "data=('Alabama':'Montgomery',\n",
    "     'Arizona':'Pheonix',\n",
    "     'Georgia':'Atlanta',\n",
    "     'Kentucky':'Frankfurt',\n",
    "     'Ohio':'Columbus')"
   ]
  },
  {
   "cell_type": "code",
   "execution_count": null,
   "id": "1d31365f",
   "metadata": {},
   "outputs": [],
   "source": [
    "data.keys()"
   ]
  },
  {
   "cell_type": "code",
   "execution_count": null,
   "id": "0db183c4",
   "metadata": {},
   "outputs": [],
   "source": [
    "data.values()"
   ]
  },
  {
   "cell_type": "code",
   "execution_count": null,
   "id": "a1c19204",
   "metadata": {},
   "outputs": [],
   "source": [
    "data.items()"
   ]
  },
  {
   "cell_type": "markdown",
   "id": "ab9e78f2",
   "metadata": {},
   "source": [
    "### Loop through a dictionary for"
   ]
  },
  {
   "cell_type": "code",
   "execution_count": null,
   "id": "941bf04e",
   "metadata": {},
   "outputs": [],
   "source": [
    "# unpack the dictionary keys\n",
    "for i in data.keys():\n",
    "    print(i)\n",
    "    print(type(i))"
   ]
  },
  {
   "cell_type": "code",
   "execution_count": null,
   "id": "fe239e39",
   "metadata": {},
   "outputs": [],
   "source": [
    "# unpack the dictionary values \n",
    "for j in data.values():\n",
    "    print(j)"
   ]
  },
  {
   "cell_type": "code",
   "execution_count": null,
   "id": "c0746d46",
   "metadata": {},
   "outputs": [],
   "source": [
    "# dictionary items\n",
    "for k in data.items():\n",
    "    print(k)\n",
    "    print(type(k))"
   ]
  },
  {
   "cell_type": "code",
   "execution_count": null,
   "id": "e07995b1",
   "metadata": {},
   "outputs": [],
   "source": [
    "# unpack dictionary items\n",
    "for j,k in data.items():\n",
    "    print(\"state: \", j)\n",
    "    print(\"capital: \", k)"
   ]
  },
  {
   "cell_type": "markdown",
   "id": "82ec7aff",
   "metadata": {},
   "source": [
    "### Convert dictionary to lists using `list()` function"
   ]
  },
  {
   "cell_type": "code",
   "execution_count": null,
   "id": "afcede6e",
   "metadata": {},
   "outputs": [],
   "source": [
    "data"
   ]
  },
  {
   "cell_type": "code",
   "execution_count": null,
   "id": "b85f9771",
   "metadata": {},
   "outputs": [],
   "source": [
    "# dictionary keys to a list\n",
    "list(data.keys())"
   ]
  },
  {
   "cell_type": "code",
   "execution_count": null,
   "id": "1513a1e3",
   "metadata": {},
   "outputs": [],
   "source": [
    "# dictionary values to a list\n",
    "list(data.values())"
   ]
  },
  {
   "cell_type": "code",
   "execution_count": null,
   "id": "59ec3714",
   "metadata": {},
   "outputs": [],
   "source": []
  },
  {
   "cell_type": "markdown",
   "id": "d13131c6",
   "metadata": {},
   "source": [
    "### A List in a Dictionary: How to unpack all of the entries?"
   ]
  },
  {
   "cell_type": "code",
   "execution_count": null,
   "id": "cd81cd95",
   "metadata": {},
   "outputs": [],
   "source": [
    "fav_language={'jen':['python', 'ruby'],\n",
    "              'sarah':['c'],\n",
    "              'edward':['ruby','java']\n",
    "              'phil':['python','java']\n",
    "    \n",
    "}"
   ]
  },
  {
   "cell_type": "code",
   "execution_count": null,
   "id": "1d594da7",
   "metadata": {},
   "outputs": [],
   "source": [
    "fav_language"
   ]
  },
  {
   "cell_type": "code",
   "execution_count": null,
   "id": "e9a96ec4",
   "metadata": {},
   "outputs": [],
   "source": [
    "for name, subjects in fav_language.items():\n",
    "    print(f\"The name is : {name.title()}. The favourite languages are:{subjects} \")\n",
    "    \n",
    "    for i in subjects:\n",
    "        print(\"\\t\\t\\t\\t\\t\\t\",i)"
   ]
  },
  {
   "cell_type": "code",
   "execution_count": null,
   "id": "9796242d",
   "metadata": {},
   "outputs": [],
   "source": []
  },
  {
   "cell_type": "markdown",
   "id": "7543bcaf",
   "metadata": {},
   "source": [
    "###  A Dictionary in a Dictionary"
   ]
  },
  {
   "cell_type": "code",
   "execution_count": null,
   "id": "5716262d",
   "metadata": {},
   "outputs": [],
   "source": [
    "user={'einstein':{\n",
    "    'first': 'albert',\n",
    "    'last': 'einstein',\n",
    "    'location':'prinston'\n",
    "},\n",
    "      'mcurie':{\n",
    "          'first':'marie',\n",
    "          'last':'curie',\n",
    "          'location':'paris'\n",
    "      }\n",
    "    \n",
    "}"
   ]
  },
  {
   "cell_type": "code",
   "execution_count": null,
   "id": "7aaca1c4",
   "metadata": {},
   "outputs": [],
   "source": [
    "# albert\n",
    "user['est']['first']"
   ]
  },
  {
   "cell_type": "code",
   "execution_count": null,
   "id": "87b2960b",
   "metadata": {},
   "outputs": [],
   "source": [
    "#paris\n",
    "user['mcurie']['location']"
   ]
  },
  {
   "cell_type": "code",
   "execution_count": null,
   "id": "abb0edb5",
   "metadata": {},
   "outputs": [],
   "source": [
    "for username, user_info in user.items():\n",
    "    print(\"Username\",username)\n",
    "    #print(user_info)\n",
    "    full_name=user_info['first']+\" \" +user_info['last']\n",
    "    print(\"full name: \",full_name)\n",
    "    print(\"location: \",user_info['location'] )"
   ]
  }
 ],
 "metadata": {
  "kernelspec": {
   "display_name": "Python 3 (ipykernel)",
   "language": "python",
   "name": "python3"
  },
  "language_info": {
   "codemirror_mode": {
    "name": "ipython",
    "version": 3
   },
   "file_extension": ".py",
   "mimetype": "text/x-python",
   "name": "python",
   "nbconvert_exporter": "python",
   "pygments_lexer": "ipython3",
   "version": "3.11.4"
  }
 },
 "nbformat": 4,
 "nbformat_minor": 5
}
